{
 "cells": [
  {
   "cell_type": "markdown",
   "metadata": {
    "pycharm": {
     "name": "#%% md\n"
    }
   },
   "source": [
    "# Advent of Code 2021\n",
    "## Day 4\n",
    "*<https://adventofcode.com/2021/day/4>*"
   ]
  },
  {
   "cell_type": "code",
   "execution_count": 1,
   "metadata": {
    "pycharm": {
     "name": "#%%\n"
    }
   },
   "outputs": [],
   "source": [
    "import IPython\n",
    "import math\n",
    "import re\n",
    "from helper import *\n",
    "from itertools import product, combinations, permutations\n",
    "from collections import Counter\n",
    "from rich import inspect, print, pretty\n",
    "pretty.install()"
   ]
  },
  {
   "cell_type": "code",
   "execution_count": 2,
   "metadata": {
    "collapsed": false,
    "pycharm": {
     "name": "#%%\n"
    }
   },
   "outputs": [],
   "source": [
    "DAY = 4\n",
    "inp = get_input(DAY)[:-1]\n",
    "part_1 = None\n",
    "part_2 = None"
   ]
  },
  {
   "cell_type": "code",
   "execution_count": 3,
   "metadata": {
    "pycharm": {
     "name": "#%%\n"
    }
   },
   "outputs": [],
   "source": [
    "boards = [[[[int(x), False] for x in line.split()] for line in board.split(\"\\n\")] for board in inp.split(\"\\n\\n\")[1:]]\n",
    "nums = [*map(int, inp.split(\"\\n\\n\")[0].split(\",\"))]"
   ]
  },
  {
   "cell_type": "code",
   "execution_count": 4,
   "metadata": {},
   "outputs": [],
   "source": [
    "def is_won(board):\n",
    "    if any(all(x[1] for x in row) for row in board):\n",
    "        return True\n",
    "    if any(all(x[1] for x in col) for col in zip(*board)):\n",
    "        return True\n",
    "    return False"
   ]
  },
  {
   "cell_type": "code",
   "execution_count": 5,
   "metadata": {},
   "outputs": [],
   "source": [
    "stop = False\n",
    "X = 0\n",
    "num = 0\n",
    "for num in nums:\n",
    "    for i, board in enumerate(boards):\n",
    "        for row in board:\n",
    "            for cell in row:\n",
    "                if cell[0] == num:\n",
    "                    cell[1] = True\n",
    "        if is_won(board):\n",
    "            X = i\n",
    "            stop = True\n",
    "    if stop:\n",
    "        break"
   ]
  },
  {
   "cell_type": "code",
   "execution_count": 6,
   "metadata": {},
   "outputs": [],
   "source": [
    "def score(board):\n",
    "    s = 0\n",
    "    for row in board:\n",
    "        for cell in row:\n",
    "            if not cell[1]:\n",
    "                s += cell[0]\n",
    "    return s * num\n",
    "\n",
    "part_1 = score(boards[X])"
   ]
  },
  {
   "cell_type": "code",
   "execution_count": 7,
   "metadata": {},
   "outputs": [],
   "source": [
    "num = 0\n",
    "won = []\n",
    "for num in nums:\n",
    "    for i, board in enumerate(boards):\n",
    "        for row in board:\n",
    "            for cell in row:\n",
    "                if cell[0] == num:\n",
    "                    cell[1] = True\n",
    "        if is_won(board) and i not in won:\n",
    "            won.append(i)\n",
    "    if len(won) == len(boards):\n",
    "        break\n",
    "\n",
    "part_2 = score(boards[won[-1]])"
   ]
  },
  {
   "cell_type": "code",
   "execution_count": 8,
   "metadata": {
    "pycharm": {
     "name": "#%%\n"
    }
   },
   "outputs": [
    {
     "data": {
      "text/html": [
       "<pre style=\"white-space:pre;overflow-x:auto;line-height:normal;font-family:Menlo,'DejaVu Sans Mono',consolas,'Courier New',monospace\"><span style=\"color: #008000; text-decoration-color: #008000; font-weight: bold\">Part </span><span style=\"color: #008000; text-decoration-color: #008000; font-weight: bold\">1</span><span style=\"color: #008000; text-decoration-color: #008000; font-weight: bold\">:</span> <span style=\"color: #008080; text-decoration-color: #008080; font-weight: bold\">32844</span>\n",
       "</pre>\n"
      ],
      "text/plain": [
       "\u001b[1;32mPart \u001b[0m\u001b[1;32m1\u001b[0m\u001b[1;32m:\u001b[0m \u001b[1;36m32844\u001b[0m\n"
      ]
     },
     "metadata": {},
     "output_type": "display_data"
    },
    {
     "data": {
      "text/html": [
       "<pre style=\"white-space:pre;overflow-x:auto;line-height:normal;font-family:Menlo,'DejaVu Sans Mono',consolas,'Courier New',monospace\"><span style=\"color: #008000; text-decoration-color: #008000; font-weight: bold\">Part </span><span style=\"color: #008000; text-decoration-color: #008000; font-weight: bold\">2</span><span style=\"color: #008000; text-decoration-color: #008000; font-weight: bold\">:</span> <span style=\"color: #008080; text-decoration-color: #008080; font-weight: bold\">4920</span>\n",
       "</pre>\n"
      ],
      "text/plain": [
       "\u001b[1;32mPart \u001b[0m\u001b[1;32m2\u001b[0m\u001b[1;32m:\u001b[0m \u001b[1;36m4920\u001b[0m\n"
      ]
     },
     "metadata": {},
     "output_type": "display_data"
    }
   ],
   "source": [
    "print_part_1(part_1)\n",
    "print_part_2(part_2)"
   ]
  }
 ],
 "metadata": {
  "kernelspec": {
   "display_name": "Python 3 (ipykernel)",
   "language": "python",
   "name": "python3"
  },
  "language_info": {
   "codemirror_mode": {
    "name": "ipython",
    "version": 3
   },
   "file_extension": ".py",
   "mimetype": "text/x-python",
   "name": "python",
   "nbconvert_exporter": "python",
   "pygments_lexer": "ipython3",
   "version": "3.10.0"
  }
 },
 "nbformat": 4,
 "nbformat_minor": 4
}
