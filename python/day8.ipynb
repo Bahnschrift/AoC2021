{
 "cells": [
  {
   "cell_type": "markdown",
   "metadata": {
    "pycharm": {
     "name": "#%% md\n"
    }
   },
   "source": [
    "# Advent of Code 2021\n",
    "## Day 8\n",
    "*<https://adventofcode.com/2021/day/8>*"
   ]
  },
  {
   "cell_type": "markdown",
   "id": "93dab515",
   "metadata": {},
   "source": [
    "So for some reason I decided not to read the prompt on this and just code the entireity of the system for part 1 doing it in one of the worst ways possible..."
   ]
  },
  {
   "cell_type": "code",
   "execution_count": 7,
   "metadata": {
    "pycharm": {
     "name": "#%%\n"
    }
   },
   "outputs": [],
   "source": [
    "import IPython\n",
    "import math\n",
    "import re\n",
    "from helper import *\n",
    "from itertools import product, combinations, permutations\n",
    "from collections import Counter\n",
    "from pyperclip import copy as copy_part\n",
    "from rich import inspect, print, pretty\n",
    "pretty.install()"
   ]
  },
  {
   "cell_type": "code",
   "execution_count": 8,
   "metadata": {
    "collapsed": false,
    "pycharm": {
     "name": "#%%\n"
    }
   },
   "outputs": [],
   "source": [
    "DAY = 8\n",
    "inp = get_input_lines(DAY)\n",
    "part_1 = 0\n",
    "part_2 = 0"
   ]
  },
  {
   "cell_type": "code",
   "execution_count": 9,
   "id": "dabf1701",
   "metadata": {},
   "outputs": [],
   "source": [
    "def print_known(fixed_broken):\n",
    "    s = \"\"\"\\\n",
    " AAAA\n",
    "B    C\n",
    "B    C\n",
    " DDDD\n",
    "E    F\n",
    "E    F\n",
    " GGGG \\\n",
    "\"\"\"\n",
    "    for k, v in fixed_broken.items():\n",
    "        s = s.replace(k.upper(), v)\n",
    "    \n",
    "    for c in \"ABCDEFG\":\n",
    "        s = s.replace(c, \".\")\n",
    "    \n",
    "    print(s)"
   ]
  },
  {
   "cell_type": "code",
   "execution_count": 10,
   "id": "42f4ba0c",
   "metadata": {},
   "outputs": [],
   "source": [
    "display_patterns = {k: v for k, v in zip([\"abcefg\", \"cf\", \"acdeg\", \"acdfg\", \"bcdf\", \"abdfg\", \"abdefg\", \"acf\", \"abcdefg\", \"abcdfg\"], range(10))}"
   ]
  },
  {
   "cell_type": "code",
   "execution_count": 11,
   "metadata": {},
   "outputs": [],
   "source": [
    "for line in inp:\n",
    "    fixed_broken = {}\n",
    "    patterns, output = line.split(\" | \")\n",
    "    patterns = patterns.split()\n",
    "    output = output.split()\n",
    "\n",
    "    digits = {}\n",
    "    digits[1] = [x for x in patterns if len(x) == 2][0]\n",
    "    digits[4] = [x for x in patterns if len(x) == 4][0]\n",
    "    digits[7] = [x for x in patterns if len(x) == 3][0]\n",
    "    digits[8] = [x for x in patterns if len(x) == 7][0]\n",
    "\n",
    "    a = [x for x in digits[7] if x not in digits[1]]\n",
    "    assert len(a) == 1\n",
    "    fixed_broken[\"a\"] = a[0]\n",
    "\n",
    "    f = [x for x in \"abcdefg\" if len([y for y in patterns if x in y]) == 9 and x not in fixed_broken.values()]\n",
    "    assert len(f) == 1\n",
    "    fixed_broken[\"f\"] = f[0]\n",
    "\n",
    "    c = [x for x in digits[1] if x != fixed_broken[\"f\"]]\n",
    "    assert len(c) == 1\n",
    "    fixed_broken[\"c\"] = c[0]\n",
    "\n",
    "    b = [x for x in \"abcdefgh\" if len([y for y in patterns if x in y]) == 6]\n",
    "    assert len(b) == 1\n",
    "    fixed_broken[\"b\"] = b[0]\n",
    "\n",
    "    e = [x for x in \"abcdefg\" if len([y for y in patterns if x in y]) == 4]\n",
    "    assert len(e) == 1\n",
    "    fixed_broken[\"e\"] = e[0]\n",
    "\n",
    "    d0 = [x for x in patterns if len(x) == 6 and all(seg in x for seg in fixed_broken.values())]\n",
    "    assert len(d0) == 1\n",
    "    digits[0] = d0[0]\n",
    "\n",
    "    g = digits[0].translate({ord(v): \"\" for v in fixed_broken.values()})\n",
    "    assert len(g) == 1\n",
    "    fixed_broken[\"g\"] = g\n",
    "\n",
    "    d = [x for x in \"abcdefg\" if x not in fixed_broken.values()]\n",
    "    assert len(d) == 1\n",
    "    fixed_broken[\"d\"] = d[0]\n",
    "\n",
    "    out_nums = [display_patterns[\"\".join(sorted(enc_num.translate({ord(b): ord(f) for f, b in fixed_broken.items()})))] for enc_num in output]\n",
    "    part_1 += out_nums.count(1)\n",
    "    part_1 += out_nums.count(4)\n",
    "    part_1 += out_nums.count(7)\n",
    "    part_1 += out_nums.count(8)\n",
    "    part_2 += int(\"\".join(map(str, out_nums)))\n"
   ]
  },
  {
   "cell_type": "code",
   "execution_count": 12,
   "metadata": {
    "pycharm": {
     "name": "#%%\n"
    }
   },
   "outputs": [
    {
     "data": {
      "text/html": [
       "<pre style=\"white-space:pre;overflow-x:auto;line-height:normal;font-family:Menlo,'DejaVu Sans Mono',consolas,'Courier New',monospace\"><span style=\"color: #008000; text-decoration-color: #008000; font-weight: bold\">Part </span><span style=\"color: #008000; text-decoration-color: #008000; font-weight: bold\">1</span><span style=\"color: #008000; text-decoration-color: #008000; font-weight: bold\">:</span> <span style=\"color: #008080; text-decoration-color: #008080; font-weight: bold\">519</span>\n",
       "</pre>\n"
      ],
      "text/plain": [
       "\u001b[1;32mPart \u001b[0m\u001b[1;32m1\u001b[0m\u001b[1;32m:\u001b[0m \u001b[1;36m519\u001b[0m\n"
      ]
     },
     "metadata": {},
     "output_type": "display_data"
    },
    {
     "data": {
      "text/html": [
       "<pre style=\"white-space:pre;overflow-x:auto;line-height:normal;font-family:Menlo,'DejaVu Sans Mono',consolas,'Courier New',monospace\"><span style=\"color: #008000; text-decoration-color: #008000; font-weight: bold\">Part </span><span style=\"color: #008000; text-decoration-color: #008000; font-weight: bold\">2</span><span style=\"color: #008000; text-decoration-color: #008000; font-weight: bold\">:</span> <span style=\"color: #008080; text-decoration-color: #008080; font-weight: bold\">1027483</span>\n",
       "</pre>\n"
      ],
      "text/plain": [
       "\u001b[1;32mPart \u001b[0m\u001b[1;32m2\u001b[0m\u001b[1;32m:\u001b[0m \u001b[1;36m1027483\u001b[0m\n"
      ]
     },
     "metadata": {},
     "output_type": "display_data"
    }
   ],
   "source": [
    "print_part_1(part_1)\n",
    "print_part_2(part_2)"
   ]
  }
 ],
 "metadata": {
  "kernelspec": {
   "display_name": "Python 3 (ipykernel)",
   "language": "python",
   "name": "python3"
  },
  "language_info": {
   "codemirror_mode": {
    "name": "ipython",
    "version": 3
   },
   "file_extension": ".py",
   "mimetype": "text/x-python",
   "name": "python",
   "nbconvert_exporter": "python",
   "pygments_lexer": "ipython3",
   "version": "3.10.0"
  }
 },
 "nbformat": 4,
 "nbformat_minor": 8
}
