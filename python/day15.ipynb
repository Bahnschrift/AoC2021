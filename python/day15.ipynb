{
 "cells": [
  {
   "cell_type": "markdown",
   "id": "b4508ca0",
   "metadata": {
    "pycharm": {
     "name": "#%% md\n"
    }
   },
   "source": [
    "# Advent of Code 2021\n",
    "## Day 15\n",
    "*<https://adventofcode.com/2021/day/15>*"
   ]
  },
  {
   "cell_type": "code",
   "execution_count": 1,
   "id": "6d6056e7",
   "metadata": {
    "pycharm": {
     "name": "#%%\n"
    }
   },
   "outputs": [],
   "source": [
    "import IPython\n",
    "import math\n",
    "import re\n",
    "from helper import *\n",
    "from itertools import product, combinations, permutations\n",
    "from collections import Counter, defaultdict\n",
    "from rich import inspect, print, pretty\n",
    "pretty.install()"
   ]
  },
  {
   "cell_type": "code",
   "execution_count": 2,
   "id": "2bf9ef17",
   "metadata": {
    "collapsed": false,
    "pycharm": {
     "name": "#%%\n"
    }
   },
   "outputs": [],
   "source": [
    "DAY = 15\n",
    "inp: Grid[int] = Grid([[*map(int, line)] for line in get_input_lines(DAY)])\n",
    "part_1 = 0\n",
    "part_2 = 0"
   ]
  },
  {
   "cell_type": "markdown",
   "id": "967dc774",
   "metadata": {},
   "source": [
    "Not sure if the finished set just happens to work for my input, or if actually just works... Either way, it makes it about 5x faster. PyPy also seems to make it a further 3x faster. "
   ]
  },
  {
   "cell_type": "code",
   "execution_count": 3,
   "id": "3ffbd7e2",
   "metadata": {},
   "outputs": [],
   "source": [
    "def get_cost(grid: Grid[int]):\n",
    "    costs: defaultdict[tuple[int, int], int] = defaultdict(lambda: 99999)\n",
    "    costs[(0, 0)] = 0\n",
    "    finished = set()\n",
    "    changed = True\n",
    "    while changed:\n",
    "        changed = False\n",
    "        for (x, y) in grid.positions():\n",
    "            if (x, y) in finished:\n",
    "                continue\n",
    "            min_adj = min([costs[n] for n in grid.neighbours_pos((x, y))])\n",
    "            if min_adj + grid[x, y] >= costs[(x, y)]:\n",
    "                finished.add((x, y))\n",
    "                continue\n",
    "            costs[(x, y)] = min_adj + grid[x, y]\n",
    "            changed = True\n",
    "                \n",
    "    return costs[(grid.width - 1, grid.height - 1)]"
   ]
  },
  {
   "cell_type": "code",
   "execution_count": 4,
   "id": "bef04a69",
   "metadata": {
    "pycharm": {
     "name": "#%%\n"
    }
   },
   "outputs": [],
   "source": [
    "part_1 = get_cost(inp)"
   ]
  },
  {
   "cell_type": "code",
   "execution_count": 5,
   "id": "c525f64a",
   "metadata": {},
   "outputs": [],
   "source": [
    "expanded: Grid[int] = Grid.of_val_width_height(0, inp.width * 5, inp.height * 5)\n",
    "\n",
    "for (x, y) in expanded.positions():\n",
    "    n = inp[x % inp.width, y % inp.height]\n",
    "    for i in range(x // inp.width + y // inp.height):\n",
    "        n += 1\n",
    "        if n == 10:\n",
    "            n = 1\n",
    "    expanded[x, y] = n\n",
    "\n",
    "part_2 = get_cost(expanded)"
   ]
  },
  {
   "cell_type": "code",
   "execution_count": 6,
   "id": "f68025e1",
   "metadata": {
    "pycharm": {
     "name": "#%%\n"
    }
   },
   "outputs": [
    {
     "data": {
      "text/html": [
       "<pre style=\"white-space:pre;overflow-x:auto;line-height:normal;font-family:Menlo,'DejaVu Sans Mono',consolas,'Courier New',monospace\"><span style=\"color: #008000; text-decoration-color: #008000; font-weight: bold\">Part </span><span style=\"color: #008000; text-decoration-color: #008000; font-weight: bold\">1</span><span style=\"color: #008000; text-decoration-color: #008000; font-weight: bold\">:</span> <span style=\"color: #008080; text-decoration-color: #008080; font-weight: bold\">415</span>\n",
       "</pre>\n"
      ],
      "text/plain": [
       "\u001b[1;32mPart \u001b[0m\u001b[1;32m1\u001b[0m\u001b[1;32m:\u001b[0m \u001b[1;36m415\u001b[0m\n"
      ]
     },
     "metadata": {},
     "output_type": "display_data"
    },
    {
     "data": {
      "text/html": [
       "<pre style=\"white-space:pre;overflow-x:auto;line-height:normal;font-family:Menlo,'DejaVu Sans Mono',consolas,'Courier New',monospace\"><span style=\"color: #008000; text-decoration-color: #008000; font-weight: bold\">Part </span><span style=\"color: #008000; text-decoration-color: #008000; font-weight: bold\">2</span><span style=\"color: #008000; text-decoration-color: #008000; font-weight: bold\">:</span> <span style=\"color: #008080; text-decoration-color: #008080; font-weight: bold\">2864</span>\n",
       "</pre>\n"
      ],
      "text/plain": [
       "\u001b[1;32mPart \u001b[0m\u001b[1;32m2\u001b[0m\u001b[1;32m:\u001b[0m \u001b[1;36m2864\u001b[0m\n"
      ]
     },
     "metadata": {},
     "output_type": "display_data"
    }
   ],
   "source": [
    "print_part_1(part_1)\n",
    "print_part_2(part_2)"
   ]
  }
 ],
 "metadata": {
  "kernelspec": {
   "display_name": "Python 3 (ipykernel)",
   "language": "python",
   "name": "python3"
  },
  "language_info": {
   "codemirror_mode": {
    "name": "ipython",
    "version": 3
   },
   "file_extension": ".py",
   "mimetype": "text/x-python",
   "name": "python",
   "nbconvert_exporter": "python",
   "pygments_lexer": "ipython3",
   "version": "3.8.12"
  }
 },
 "nbformat": 4,
 "nbformat_minor": 15
}
