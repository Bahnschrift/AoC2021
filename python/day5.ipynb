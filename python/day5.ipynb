{
 "cells": [
  {
   "cell_type": "markdown",
   "metadata": {
    "pycharm": {
     "name": "#%% md\n"
    }
   },
   "source": [
    "# Advent of Code 2021\n",
    "## Day 5\n",
    "*<https://adventofcode.com/2021/day/5>*"
   ]
  },
  {
   "cell_type": "code",
   "execution_count": 1,
   "metadata": {
    "pycharm": {
     "name": "#%%\n"
    }
   },
   "outputs": [],
   "source": [
    "import IPython\n",
    "import math\n",
    "import re\n",
    "from helper import *\n",
    "from itertools import product, combinations, permutations\n",
    "from collections import Counter\n",
    "from pyperclip import copy as copy_part\n",
    "from rich import inspect, print, pretty\n",
    "pretty.install()"
   ]
  },
  {
   "cell_type": "code",
   "execution_count": 2,
   "metadata": {
    "collapsed": false,
    "pycharm": {
     "name": "#%%\n"
    }
   },
   "outputs": [],
   "source": [
    "DAY = 5\n",
    "inp = get_input_lines(DAY)\n",
    "part_1 = 0\n",
    "part_2 = 0"
   ]
  },
  {
   "cell_type": "code",
   "execution_count": 3,
   "metadata": {
    "pycharm": {
     "name": "#%%\n"
    }
   },
   "outputs": [],
   "source": [
    "positions = []\n",
    "for line in inp:\n",
    "    p1, p2 = line.split(\" -> \")\n",
    "    positions.append(([*map(int, p1.split(\",\"))], [*map(int, p2.split(\",\"))]))"
   ]
  },
  {
   "cell_type": "code",
   "execution_count": 4,
   "metadata": {},
   "outputs": [],
   "source": [
    "pts = Counter()\n",
    "c = 0\n",
    "for p1, p2 in positions:\n",
    "    x_dif = 1 if p1[0] <= p2[0] else -1\n",
    "    y_dif = 1 if p1[1] <= p2[1] else -1\n",
    "    if p1[0] == p2[0] or p1[1] == p2[1]:\n",
    "        for x in range(p1[0], p2[0] + x_dif, x_dif):\n",
    "            for y in range(p1[1], p2[1] + y_dif, y_dif):\n",
    "                pts[(x, y)] += 1\n",
    "\n",
    "part_1 = len(list(filter(lambda x: x >= 2, pts.values())))"
   ]
  },
  {
   "cell_type": "code",
   "execution_count": 5,
   "id": "182c342e",
   "metadata": {},
   "outputs": [],
   "source": [
    "pts = Counter()\n",
    "c = 0\n",
    "for p1, p2 in positions:\n",
    "    x_dif = 1 if p1[0] <= p2[0] else -1\n",
    "    y_dif = 1 if p1[1] <= p2[1] else -1\n",
    "    if p1[0] == p2[0] or p1[1] == p2[1]:\n",
    "        for x in range(p1[0], p2[0] + x_dif, x_dif):\n",
    "            for y in range(p1[1], p2[1] + y_dif, y_dif):\n",
    "                pts[(x, y)] += 1\n",
    "                c += 1\n",
    "    else:\n",
    "        x, y = p1\n",
    "        while x != p2[0] + x_dif:\n",
    "            pts[(x, y)] += 1\n",
    "            x += x_dif\n",
    "            y += y_dif\n",
    "\n",
    "part_2 = len(list(filter(lambda x: x >= 2, pts.values())))"
   ]
  },
  {
   "cell_type": "code",
   "execution_count": 6,
   "metadata": {
    "pycharm": {
     "name": "#%%\n"
    }
   },
   "outputs": [
    {
     "data": {
      "text/html": [
       "<pre style=\"white-space:pre;overflow-x:auto;line-height:normal;font-family:Menlo,'DejaVu Sans Mono',consolas,'Courier New',monospace\"><span style=\"color: #008000; text-decoration-color: #008000; font-weight: bold\">Part </span><span style=\"color: #008000; text-decoration-color: #008000; font-weight: bold\">1</span><span style=\"color: #008000; text-decoration-color: #008000; font-weight: bold\">:</span> <span style=\"color: #008080; text-decoration-color: #008080; font-weight: bold\">3990</span>\n",
       "</pre>\n"
      ],
      "text/plain": [
       "\u001b[1;32mPart \u001b[0m\u001b[1;32m1\u001b[0m\u001b[1;32m:\u001b[0m \u001b[1;36m3990\u001b[0m\n"
      ]
     },
     "metadata": {},
     "output_type": "display_data"
    },
    {
     "data": {
      "text/html": [
       "<pre style=\"white-space:pre;overflow-x:auto;line-height:normal;font-family:Menlo,'DejaVu Sans Mono',consolas,'Courier New',monospace\"><span style=\"color: #008000; text-decoration-color: #008000; font-weight: bold\">Part </span><span style=\"color: #008000; text-decoration-color: #008000; font-weight: bold\">2</span><span style=\"color: #008000; text-decoration-color: #008000; font-weight: bold\">:</span> <span style=\"color: #008080; text-decoration-color: #008080; font-weight: bold\">21305</span>\n",
       "</pre>\n"
      ],
      "text/plain": [
       "\u001b[1;32mPart \u001b[0m\u001b[1;32m2\u001b[0m\u001b[1;32m:\u001b[0m \u001b[1;36m21305\u001b[0m\n"
      ]
     },
     "metadata": {},
     "output_type": "display_data"
    }
   ],
   "source": [
    "print_part_1(part_1)\n",
    "print_part_2(part_2)"
   ]
  }
 ],
 "metadata": {
  "kernelspec": {
   "display_name": "Python 3 (ipykernel)",
   "language": "python",
   "name": "python3"
  },
  "language_info": {
   "codemirror_mode": {
    "name": "ipython",
    "version": 3
   },
   "file_extension": ".py",
   "mimetype": "text/x-python",
   "name": "python",
   "nbconvert_exporter": "python",
   "pygments_lexer": "ipython3",
   "version": "3.10.0"
  }
 },
 "nbformat": 4,
 "nbformat_minor": 5
}
