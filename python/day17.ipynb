{
 "cells": [
  {
   "cell_type": "markdown",
   "metadata": {
    "pycharm": {
     "name": "#%% md\n"
    }
   },
   "source": [
    "# Advent of Code 2021\n",
    "## Day 17\n",
    "*<https://adventofcode.com/2021/day/17>*"
   ]
  },
  {
   "cell_type": "code",
   "execution_count": 1,
   "metadata": {
    "pycharm": {
     "name": "#%%\n"
    }
   },
   "outputs": [],
   "source": [
    "import IPython\n",
    "import math\n",
    "import re\n",
    "from helper import *\n",
    "from itertools import product, combinations, permutations\n",
    "from collections import Counter, defaultdict\n",
    "from rich import inspect, print, pretty\n",
    "pretty.install()"
   ]
  },
  {
   "cell_type": "code",
   "execution_count": 2,
   "metadata": {
    "collapsed": false,
    "pycharm": {
     "name": "#%%\n"
    }
   },
   "outputs": [],
   "source": [
    "DAY = 17\n",
    "inp = ints(get_input(DAY))\n",
    "part_1 = 0\n",
    "part_2 = 0"
   ]
  },
  {
   "cell_type": "code",
   "execution_count": 3,
   "metadata": {
    "pycharm": {
     "name": "#%%\n"
    }
   },
   "outputs": [],
   "source": [
    "tx = range(inp[0], inp[1] + 1)\n",
    "ty = range(inp[2], inp[3] + 1)\n",
    "\n",
    "def find_max_y(vy):\n",
    "    highest = 0\n",
    "    y = 0\n",
    "    while y > inp[3]:\n",
    "        _, y, _, vy = step(0, y, 0, vy)\n",
    "        if y > highest:\n",
    "            highest = y\n",
    "    if y >= inp[2]:\n",
    "        return highest\n",
    "    return -1\n",
    "\n",
    "def is_best_vy(vy):\n",
    "    y = 0\n",
    "    while y > inp[3]:\n",
    "        _, y, _, vy = step(0, y, 0, vy)\n",
    "        if y == 0:\n",
    "            _, y, _, vy = step(0, y, 0, vy)\n",
    "            if y == inp[2]:\n",
    "                return True\n",
    "            return False\n",
    "    return False\n",
    "        \n",
    "def step(x, y, vx, vy):\n",
    "    return x + vx, y + vy, sign(vx) * (abs(vx) - 1), vy - 1"
   ]
  },
  {
   "cell_type": "code",
   "execution_count": 4,
   "metadata": {},
   "outputs": [],
   "source": [
    "best = -1\n",
    "vy = 0\n",
    "while vy < 10000:\n",
    "    vy += 1\n",
    "    if is_best_vy(vy):\n",
    "        best = find_max_y(vy)\n",
    "        break\n",
    "\n",
    "part_1 = best"
   ]
  },
  {
   "cell_type": "code",
   "execution_count": 5,
   "id": "cbd342a1",
   "metadata": {},
   "outputs": [],
   "source": [
    "def is_valid_initial(vx, vy):\n",
    "    x, y = 0, 0\n",
    "    while x <= inp[1] and y >= inp[2]:\n",
    "        x, y, vx, vy = step(x, y, vx, vy)\n",
    "        if inp[0] <= x <= inp[1] and inp[2] <= y <= inp[3]:\n",
    "            return True\n",
    "    return False"
   ]
  },
  {
   "cell_type": "code",
   "execution_count": 6,
   "id": "2dc4d8fa",
   "metadata": {},
   "outputs": [],
   "source": [
    "valid = 0\n",
    "for vx, vy in product(range(1, 250), range(inp[2], 250)):\n",
    "    if is_valid_initial(vx, vy):\n",
    "        valid += 1\n",
    "\n",
    "part_2 = valid"
   ]
  },
  {
   "cell_type": "code",
   "execution_count": 7,
   "metadata": {
    "pycharm": {
     "name": "#%%\n"
    }
   },
   "outputs": [
    {
     "data": {
      "text/html": [
       "<pre style=\"white-space:pre;overflow-x:auto;line-height:normal;font-family:Menlo,'DejaVu Sans Mono',consolas,'Courier New',monospace\"><span style=\"color: #008000; text-decoration-color: #008000; font-weight: bold\">Part </span><span style=\"color: #008000; text-decoration-color: #008000; font-weight: bold\">1</span><span style=\"color: #008000; text-decoration-color: #008000; font-weight: bold\">:</span> <span style=\"color: #008080; text-decoration-color: #008080; font-weight: bold\">9180</span>\n",
       "</pre>\n"
      ],
      "text/plain": [
       "\u001b[1;32mPart \u001b[0m\u001b[1;32m1\u001b[0m\u001b[1;32m:\u001b[0m \u001b[1;36m9180\u001b[0m\n"
      ]
     },
     "metadata": {},
     "output_type": "display_data"
    },
    {
     "data": {
      "text/html": [
       "<pre style=\"white-space:pre;overflow-x:auto;line-height:normal;font-family:Menlo,'DejaVu Sans Mono',consolas,'Courier New',monospace\"><span style=\"color: #008000; text-decoration-color: #008000; font-weight: bold\">Part </span><span style=\"color: #008000; text-decoration-color: #008000; font-weight: bold\">2</span><span style=\"color: #008000; text-decoration-color: #008000; font-weight: bold\">:</span> <span style=\"color: #008080; text-decoration-color: #008080; font-weight: bold\">3767</span>\n",
       "</pre>\n"
      ],
      "text/plain": [
       "\u001b[1;32mPart \u001b[0m\u001b[1;32m2\u001b[0m\u001b[1;32m:\u001b[0m \u001b[1;36m3767\u001b[0m\n"
      ]
     },
     "metadata": {},
     "output_type": "display_data"
    }
   ],
   "source": [
    "print_part_1(part_1)\n",
    "print_part_2(part_2)"
   ]
  }
 ],
 "metadata": {
  "kernelspec": {
   "display_name": "Python 3 (ipykernel)",
   "language": "python",
   "name": "python3"
  },
  "language_info": {
   "codemirror_mode": {
    "name": "ipython",
    "version": 3
   },
   "file_extension": ".py",
   "mimetype": "text/x-python",
   "name": "python",
   "nbconvert_exporter": "python",
   "pygments_lexer": "ipython3",
   "version": "3.10.0"
  }
 },
 "nbformat": 4,
 "nbformat_minor": 17
}
