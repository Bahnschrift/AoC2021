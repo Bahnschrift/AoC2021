{
 "cells": [
  {
   "cell_type": "markdown",
   "metadata": {
    "pycharm": {
     "name": "#%% md\n"
    }
   },
   "source": [
    "# Advent of Code 2021\n",
    "## Day 14\n",
    "*<https://adventofcode.com/2021/day/14>*"
   ]
  },
  {
   "cell_type": "code",
   "execution_count": 1,
   "metadata": {
    "pycharm": {
     "name": "#%%\n"
    }
   },
   "outputs": [],
   "source": [
    "import IPython\n",
    "import math\n",
    "import re\n",
    "from helper import *\n",
    "from itertools import product, combinations, permutations\n",
    "from collections import Counter\n",
    "from pyperclip import copy as copy_part\n",
    "from rich import inspect, print, pretty\n",
    "pretty.install()"
   ]
  },
  {
   "cell_type": "code",
   "execution_count": 2,
   "metadata": {
    "collapsed": false,
    "pycharm": {
     "name": "#%%\n"
    }
   },
   "outputs": [],
   "source": [
    "DAY = 14\n",
    "inp = get_input_lines(DAY)\n",
    "part_1 = 0\n",
    "part_2 = 0"
   ]
  },
  {
   "cell_type": "code",
   "execution_count": 3,
   "id": "9b901ccc",
   "metadata": {},
   "outputs": [],
   "source": [
    "template, rules_s = inp[0], inp[2:]\n",
    "rules = dict(line.split(\" -> \") for line in rules_s)"
   ]
  },
  {
   "cell_type": "code",
   "execution_count": 4,
   "metadata": {},
   "outputs": [],
   "source": [
    "def step(polymer):\n",
    "    new = \"\"\n",
    "    for i in range(len(polymer) - 1):\n",
    "        new += polymer[i]\n",
    "        if polymer[i] + polymer[i + 1] in rules:\n",
    "            new += rules[polymer[i] + polymer[i + 1]]\n",
    "    new += polymer[-1]\n",
    "    return new"
   ]
  },
  {
   "cell_type": "code",
   "execution_count": 5,
   "id": "644b4706",
   "metadata": {},
   "outputs": [],
   "source": [
    "polymer = template\n",
    "for i in range(10):\n",
    "    polymer = step(polymer)\n",
    "\n",
    "counts = Counter(polymer)\n",
    "part_1 = max(counts.values()) - min(counts.values())"
   ]
  },
  {
   "cell_type": "code",
   "execution_count": 6,
   "id": "8c8b8b83",
   "metadata": {},
   "outputs": [],
   "source": [
    "def step_fast(pairs, elems):\n",
    "    for (a, b), c in pairs.copy().items():\n",
    "        n = rules[a + b]\n",
    "        pairs[a + b] -= c\n",
    "        pairs[a + n] += c\n",
    "        pairs[n + b] += c\n",
    "        elems[n] += c\n",
    "    return pairs, elems"
   ]
  },
  {
   "cell_type": "code",
   "execution_count": 7,
   "id": "1e9069b2",
   "metadata": {},
   "outputs": [],
   "source": [
    "pairs = Counter(template[x:x+2] for x in range(len(template) - 1))\n",
    "elems = Counter(template)\n",
    "\n",
    "for _ in range(40):\n",
    "    pairs, elems = step_fast(pairs, elems)\n",
    "\n",
    "part_2 = max(elems.values()) - min(elems.values())"
   ]
  },
  {
   "cell_type": "code",
   "execution_count": 8,
   "metadata": {
    "pycharm": {
     "name": "#%%\n"
    }
   },
   "outputs": [
    {
     "data": {
      "text/html": [
       "<pre style=\"white-space:pre;overflow-x:auto;line-height:normal;font-family:Menlo,'DejaVu Sans Mono',consolas,'Courier New',monospace\"><span style=\"color: #008000; text-decoration-color: #008000; font-weight: bold\">Part </span><span style=\"color: #008000; text-decoration-color: #008000; font-weight: bold\">1</span><span style=\"color: #008000; text-decoration-color: #008000; font-weight: bold\">:</span> <span style=\"color: #008080; text-decoration-color: #008080; font-weight: bold\">2584</span>\n",
       "</pre>\n"
      ],
      "text/plain": [
       "\u001b[1;32mPart \u001b[0m\u001b[1;32m1\u001b[0m\u001b[1;32m:\u001b[0m \u001b[1;36m2584\u001b[0m\n"
      ]
     },
     "metadata": {},
     "output_type": "display_data"
    },
    {
     "data": {
      "text/html": [
       "<pre style=\"white-space:pre;overflow-x:auto;line-height:normal;font-family:Menlo,'DejaVu Sans Mono',consolas,'Courier New',monospace\"><span style=\"color: #008000; text-decoration-color: #008000; font-weight: bold\">Part </span><span style=\"color: #008000; text-decoration-color: #008000; font-weight: bold\">2</span><span style=\"color: #008000; text-decoration-color: #008000; font-weight: bold\">:</span> <span style=\"color: #008080; text-decoration-color: #008080; font-weight: bold\">3816397135460</span>\n",
       "</pre>\n"
      ],
      "text/plain": [
       "\u001b[1;32mPart \u001b[0m\u001b[1;32m2\u001b[0m\u001b[1;32m:\u001b[0m \u001b[1;36m3816397135460\u001b[0m\n"
      ]
     },
     "metadata": {},
     "output_type": "display_data"
    }
   ],
   "source": [
    "print_part_1(part_1)\n",
    "print_part_2(part_2)"
   ]
  }
 ],
 "metadata": {
  "kernelspec": {
   "display_name": "Python 3 (ipykernel)",
   "language": "python",
   "name": "python3"
  },
  "language_info": {
   "codemirror_mode": {
    "name": "ipython",
    "version": 3
   },
   "file_extension": ".py",
   "mimetype": "text/x-python",
   "name": "python",
   "nbconvert_exporter": "python",
   "pygments_lexer": "ipython3",
   "version": "3.10.0"
  }
 },
 "nbformat": 4,
 "nbformat_minor": 14
}
