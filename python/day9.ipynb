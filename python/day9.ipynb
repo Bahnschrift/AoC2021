{
 "cells": [
  {
   "cell_type": "markdown",
   "metadata": {
    "pycharm": {
     "name": "#%% md\n"
    }
   },
   "source": [
    "# Advent of Code 2021\n",
    "## Day 9\n",
    "*<https://adventofcode.com/2021/day/9>*"
   ]
  },
  {
   "cell_type": "code",
   "execution_count": 1,
   "metadata": {
    "pycharm": {
     "name": "#%%\n"
    }
   },
   "outputs": [],
   "source": [
    "import IPython\n",
    "import math\n",
    "import re\n",
    "from helper import *\n",
    "from itertools import product, combinations, permutations\n",
    "from collections import Counter\n",
    "from pyperclip import copy as copy_part\n",
    "from rich import inspect, print, pretty\n",
    "pretty.install()"
   ]
  },
  {
   "cell_type": "code",
   "execution_count": 2,
   "metadata": {
    "collapsed": false,
    "pycharm": {
     "name": "#%%\n"
    }
   },
   "outputs": [],
   "source": [
    "DAY = 9\n",
    "inp = Grid([[*map(int, line)] for line in get_input_lines(DAY)])\n",
    "part_1 = 0\n",
    "part_2 = 0"
   ]
  },
  {
   "cell_type": "code",
   "execution_count": 3,
   "metadata": {
    "pycharm": {
     "name": "#%%\n"
    }
   },
   "outputs": [],
   "source": [
    "basins = []\n",
    "\n",
    "for y, row in enumerate(inp):\n",
    "    for x, val in enumerate(row):\n",
    "        neighbouring = []\n",
    "        for nx, ny in ADJACENT_4:\n",
    "            if x + nx < 0 or x + nx >= len(row):\n",
    "                continue\n",
    "            if y + ny < 0 or y + ny >= len(inp):\n",
    "                continue\n",
    "            neighbouring.append((nx + x, ny + y))\n",
    "\n",
    "        if all(inp[nx, ny] > val for nx, ny in neighbouring):\n",
    "            part_1 += val + 1\n",
    "            basins.append((x, y))"
   ]
  },
  {
   "cell_type": "code",
   "execution_count": 4,
   "metadata": {},
   "outputs": [],
   "source": [
    "basin_sizes = {}\n",
    "for x, y in basins:\n",
    "    size = 0\n",
    "    visited = set()\n",
    "    stack = [(x, y)]\n",
    "    while stack:\n",
    "        x, y = stack.pop()\n",
    "        if (x, y) in visited:\n",
    "            continue\n",
    "        visited.add((x, y))\n",
    "\n",
    "        size += 1\n",
    "        for nx, ny in ADJACENT_4:\n",
    "            if x + nx < 0 or x + nx >= len(inp[0]):\n",
    "                continue\n",
    "            if y + ny < 0 or y + ny >= len(inp):\n",
    "                continue\n",
    "            if inp[x + nx, y + ny] != 9:\n",
    "                stack.append((nx + x, ny + y))\n",
    "    basin_sizes[(x, y)] = size\n",
    "\n",
    "basin_sizes = sorted(basin_sizes.items(), key=lambda x: x[1], reverse=True)\n",
    "basin_sizes\n",
    "part_2 = math.prod([x[1] for x in basin_sizes[0:3]])"
   ]
  },
  {
   "cell_type": "code",
   "execution_count": 5,
   "metadata": {
    "pycharm": {
     "name": "#%%\n"
    }
   },
   "outputs": [
    {
     "data": {
      "text/html": [
       "<pre style=\"white-space:pre;overflow-x:auto;line-height:normal;font-family:Menlo,'DejaVu Sans Mono',consolas,'Courier New',monospace\"><span style=\"color: #008000; text-decoration-color: #008000; font-weight: bold\">Part </span><span style=\"color: #008000; text-decoration-color: #008000; font-weight: bold\">1</span><span style=\"color: #008000; text-decoration-color: #008000; font-weight: bold\">:</span> <span style=\"color: #008080; text-decoration-color: #008080; font-weight: bold\">456</span>\n",
       "</pre>\n"
      ],
      "text/plain": [
       "\u001b[1;32mPart \u001b[0m\u001b[1;32m1\u001b[0m\u001b[1;32m:\u001b[0m \u001b[1;36m456\u001b[0m\n"
      ]
     },
     "metadata": {},
     "output_type": "display_data"
    },
    {
     "data": {
      "text/html": [
       "<pre style=\"white-space:pre;overflow-x:auto;line-height:normal;font-family:Menlo,'DejaVu Sans Mono',consolas,'Courier New',monospace\"><span style=\"color: #008000; text-decoration-color: #008000; font-weight: bold\">Part </span><span style=\"color: #008000; text-decoration-color: #008000; font-weight: bold\">2</span><span style=\"color: #008000; text-decoration-color: #008000; font-weight: bold\">:</span> <span style=\"color: #008080; text-decoration-color: #008080; font-weight: bold\">1047744</span>\n",
       "</pre>\n"
      ],
      "text/plain": [
       "\u001b[1;32mPart \u001b[0m\u001b[1;32m2\u001b[0m\u001b[1;32m:\u001b[0m \u001b[1;36m1047744\u001b[0m\n"
      ]
     },
     "metadata": {},
     "output_type": "display_data"
    }
   ],
   "source": [
    "print_part_1(part_1)\n",
    "print_part_2(part_2)"
   ]
  }
 ],
 "metadata": {
  "kernelspec": {
   "display_name": "Python 3 (ipykernel)",
   "language": "python",
   "name": "python3"
  },
  "language_info": {
   "codemirror_mode": {
    "name": "ipython",
    "version": 3
   },
   "file_extension": ".py",
   "mimetype": "text/x-python",
   "name": "python",
   "nbconvert_exporter": "python",
   "pygments_lexer": "ipython3",
   "version": "3.10.0"
  }
 },
 "nbformat": 4,
 "nbformat_minor": 9
}
