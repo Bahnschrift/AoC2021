{
 "cells": [
  {
   "cell_type": "markdown",
   "metadata": {
    "pycharm": {
     "name": "#%% md\n"
    }
   },
   "source": [
    "# Advent of Code 2021\n",
    "## Day 16\n",
    "*<https://adventofcode.com/2021/day/16>*"
   ]
  },
  {
   "cell_type": "code",
   "execution_count": 1,
   "metadata": {
    "pycharm": {
     "name": "#%%\n"
    }
   },
   "outputs": [],
   "source": [
    "import IPython\n",
    "import math\n",
    "import re\n",
    "from helper import *\n",
    "from itertools import product, combinations, permutations\n",
    "from collections import Counter, defaultdict\n",
    "from rich import inspect, print, pretty\n",
    "pretty.install()"
   ]
  },
  {
   "cell_type": "code",
   "execution_count": 2,
   "metadata": {
    "collapsed": false,
    "pycharm": {
     "name": "#%%\n"
    }
   },
   "outputs": [],
   "source": [
    "DAY = 16\n",
    "inp = get_input(DAY)\n",
    "part_1 = 0\n",
    "part_2 = 0"
   ]
  },
  {
   "cell_type": "code",
   "execution_count": 3,
   "metadata": {
    "pycharm": {
     "name": "#%%\n"
    }
   },
   "outputs": [],
   "source": [
    "inp_bin = [bin(int(x, 16))[2:].rjust(4, \"0\") for x in inp]\n",
    "inp_bin_str = \"\".join(inp_bin)"
   ]
  },
  {
   "cell_type": "code",
   "execution_count": 4,
   "id": "46dae51e",
   "metadata": {},
   "outputs": [],
   "source": [
    "class Packet:\n",
    "    def __init__(self, version: int, id: int):\n",
    "        self.version = version\n",
    "        self.id: int = id\n",
    "        self.data: list[int | Packet] = []\n",
    "\n",
    "    def __repr__(self) -> str:\n",
    "        return f\"Packet({self.version}: {self.data})\"\n",
    "\n",
    "    def sum_literals(self) -> int:\n",
    "        total = 0\n",
    "        for x in self.data:\n",
    "            if isinstance(x, Packet):\n",
    "                total += x.sum()\n",
    "            else:\n",
    "                total += x\n",
    "        return total\n",
    "\n",
    "    def sum_versions(self) -> int:\n",
    "        total = self.version\n",
    "        for x in self.data:\n",
    "            if isinstance(x, Packet):\n",
    "                total += x.sum_versions()\n",
    "        return total"
   ]
  },
  {
   "cell_type": "code",
   "execution_count": 5,
   "id": "e91788cf",
   "metadata": {},
   "outputs": [],
   "source": [
    "def read_bits(n: int, start: int) -> tuple[int, int]:\n",
    "    return int(inp_bin_str[start:start+n], 2), start + n\n",
    "\n",
    "def read_packet(start: int) -> tuple[Packet, int]:\n",
    "    cur = start\n",
    "    version, cur = read_bits(3, cur)\n",
    "    i, cur = read_bits(3, cur)\n",
    "    pac = Packet(version, i)\n",
    "    if i == 4:  # Literal Value\n",
    "        num_bin = \"\"\n",
    "        cont = True\n",
    "        while cont:\n",
    "            val, cur = read_bits(1, cur)\n",
    "            if val == 0:\n",
    "                cont = False\n",
    "            num_bin += inp_bin_str[cur:cur+4]\n",
    "            cur += 4\n",
    "        pac.data = [int(num_bin, 2)]\n",
    "    \n",
    "    else:\n",
    "        op_type, cur = read_bits(1, cur)\n",
    "        if op_type == 0:\n",
    "            sub_length, cur = read_bits(15, cur)\n",
    "            start = cur\n",
    "            while cur < start + sub_length:\n",
    "                sub, cur = read_packet(cur)\n",
    "                pac.data.append(sub)\n",
    "                \n",
    "        elif op_type == 1:\n",
    "            num_subs, cur = read_bits(11, cur)\n",
    "            for _ in range(num_subs):\n",
    "                sub, cur = read_packet(cur)\n",
    "                pac.data.append(sub)\n",
    "                \n",
    "    return pac, cur"
   ]
  },
  {
   "cell_type": "code",
   "execution_count": 6,
   "metadata": {},
   "outputs": [],
   "source": [
    "pac, _ = read_packet(0)\n",
    "part_1 = pac.sum_versions()"
   ]
  },
  {
   "cell_type": "code",
   "execution_count": 7,
   "id": "459bb0db",
   "metadata": {},
   "outputs": [],
   "source": [
    "def calc_packet(pac: Packet) -> int:\n",
    "    if isinstance(pac.data[0], int):\n",
    "        return pac.data[0]\n",
    "    \n",
    "    return {0: sum, \n",
    "            1: math.prod, \n",
    "            2: min, \n",
    "            3: max, \n",
    "            5: lambda a: int(a[0] > a[1]), \n",
    "            6: lambda a: int(a[0] < a[1]), \n",
    "            7: lambda a: int(a[0] == a[1])}[pac.id](tuple(map(calc_packet, pac.data)))"
   ]
  },
  {
   "cell_type": "code",
   "execution_count": 8,
   "id": "7cffeeca",
   "metadata": {},
   "outputs": [],
   "source": [
    "part_2 = calc_packet(pac)"
   ]
  },
  {
   "cell_type": "code",
   "execution_count": 9,
   "metadata": {
    "pycharm": {
     "name": "#%%\n"
    }
   },
   "outputs": [
    {
     "data": {
      "text/html": [
       "<pre style=\"white-space:pre;overflow-x:auto;line-height:normal;font-family:Menlo,'DejaVu Sans Mono',consolas,'Courier New',monospace\"><span style=\"color: #008000; text-decoration-color: #008000; font-weight: bold\">Part </span><span style=\"color: #008000; text-decoration-color: #008000; font-weight: bold\">1</span><span style=\"color: #008000; text-decoration-color: #008000; font-weight: bold\">:</span> <span style=\"color: #008080; text-decoration-color: #008080; font-weight: bold\">943</span>\n",
       "</pre>\n"
      ],
      "text/plain": [
       "\u001b[1;32mPart \u001b[0m\u001b[1;32m1\u001b[0m\u001b[1;32m:\u001b[0m \u001b[1;36m943\u001b[0m\n"
      ]
     },
     "metadata": {},
     "output_type": "display_data"
    },
    {
     "data": {
      "text/html": [
       "<pre style=\"white-space:pre;overflow-x:auto;line-height:normal;font-family:Menlo,'DejaVu Sans Mono',consolas,'Courier New',monospace\"><span style=\"color: #008000; text-decoration-color: #008000; font-weight: bold\">Part </span><span style=\"color: #008000; text-decoration-color: #008000; font-weight: bold\">2</span><span style=\"color: #008000; text-decoration-color: #008000; font-weight: bold\">:</span> <span style=\"color: #008080; text-decoration-color: #008080; font-weight: bold\">167737115857</span>\n",
       "</pre>\n"
      ],
      "text/plain": [
       "\u001b[1;32mPart \u001b[0m\u001b[1;32m2\u001b[0m\u001b[1;32m:\u001b[0m \u001b[1;36m167737115857\u001b[0m\n"
      ]
     },
     "metadata": {},
     "output_type": "display_data"
    }
   ],
   "source": [
    "print_part_1(part_1)\n",
    "print_part_2(part_2)"
   ]
  }
 ],
 "metadata": {
  "kernelspec": {
   "display_name": "Python 3 (ipykernel)",
   "language": "python",
   "name": "python3"
  },
  "language_info": {
   "codemirror_mode": {
    "name": "ipython",
    "version": 3
   },
   "file_extension": ".py",
   "mimetype": "text/x-python",
   "name": "python",
   "nbconvert_exporter": "python",
   "pygments_lexer": "ipython3",
   "version": "3.10.0"
  }
 },
 "nbformat": 4,
 "nbformat_minor": 16
}
