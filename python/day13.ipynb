{
 "cells": [
  {
   "cell_type": "markdown",
   "metadata": {
    "pycharm": {
     "name": "#%% md\n"
    }
   },
   "source": [
    "# Advent of Code 2021\n",
    "## Day 13\n",
    "*<https://adventofcode.com/2021/day/13>*"
   ]
  },
  {
   "cell_type": "code",
   "execution_count": 1,
   "metadata": {
    "pycharm": {
     "name": "#%%\n"
    }
   },
   "outputs": [],
   "source": [
    "import IPython\n",
    "import math\n",
    "import re\n",
    "from helper import *\n",
    "from itertools import product, combinations, permutations\n",
    "from collections import Counter\n",
    "from pyperclip import copy as copy_part\n",
    "from rich import inspect, print, pretty\n",
    "pretty.install()"
   ]
  },
  {
   "cell_type": "code",
   "execution_count": 2,
   "metadata": {
    "collapsed": false,
    "pycharm": {
     "name": "#%%\n"
    }
   },
   "outputs": [],
   "source": [
    "DAY = 13\n",
    "inp = get_input(DAY)\n",
    "part_1 = 0\n",
    "part_2 = \"\""
   ]
  },
  {
   "cell_type": "code",
   "execution_count": 3,
   "metadata": {
    "pycharm": {
     "name": "#%%\n"
    }
   },
   "outputs": [],
   "source": [
    "dots, insts = inp.split(\"\\n\\n\")\n",
    "dots = list(map(ints, dots.split(\"\\n\")))\n",
    "insts = [(line[11], int(line.split(\"=\", 1)[1])) for line in insts.split(\"\\n\")]"
   ]
  },
  {
   "cell_type": "code",
   "execution_count": 4,
   "metadata": {},
   "outputs": [],
   "source": [
    "grid = Grid([[False for x in range(max(d[0] for d in dots) + 1)] for y in range(max(d[1] for d in dots) + 1)])\n",
    "for x, y in dots:\n",
    "    grid[y][x] = True\n",
    "\n",
    "def print_g(grid):\n",
    "    print(grid.str_aligned_l().replace(\", \", \" \").replace(\"False\", \".\").replace(\"True \", \"#\"))"
   ]
  },
  {
   "cell_type": "code",
   "execution_count": 5,
   "id": "e4b58a3a",
   "metadata": {},
   "outputs": [],
   "source": [
    "def fold_along_y(grid, y):\n",
    "    top_half = Grid(grid[:ins[1]])\n",
    "    bottom_half = Grid(grid[ins[1] + 1:])\n",
    "    \n",
    "    bottom_half.flip_x()\n",
    "    new = (top_half + bottom_half).mapped_items(bool)\n",
    "\n",
    "    return new"
   ]
  },
  {
   "cell_type": "code",
   "execution_count": 6,
   "id": "12b77277",
   "metadata": {},
   "outputs": [
    {
     "data": {
      "text/html": [
       "<pre style=\"white-space:pre;overflow-x:auto;line-height:normal;font-family:Menlo,'DejaVu Sans Mono',consolas,'Courier New',monospace\">. # # . . ## # . . #. . # . . . # # . ## # # . ## # . . . # # . . . # # . .\n",
       "# . . # . #. . # . #. # . . . . . # . #. . . . #. . # . # . . # . # . . # .\n",
       "# . . # . ## # . . ## . . . . . . # . ## # . . ## # . . # . . . . # . . . .\n",
       "# # # # . #. . # . #. # . . . . . # . #. . . . #. . # . # . # # . # . . . .\n",
       "# . . # . #. . # . #. # . . # . . # . #. . . . #. . # . # . . # . # . . # .\n",
       "# . . # . ## # . . #. . # . . # # . . #. . . . ## # . . . # # # . . # # . .\n",
       "</pre>\n"
      ],
      "text/plain": [
       ". # # . . ## # . . #. . # . . . # # . ## # # . ## # . . . # # . . . # # . .\n",
       "# . . # . #. . # . #. # . . . . . # . #. . . . #. . # . # . . # . # . . # .\n",
       "# . . # . ## # . . ## . . . . . . # . ## # . . ## # . . # . . . . # . . . .\n",
       "# # # # . #. . # . #. # . . . . . # . #. . . . #. . # . # . # # . # . . . .\n",
       "# . . # . #. . # . #. # . . # . . # . #. . . . #. . # . # . . # . # . . # .\n",
       "# . . # . ## # . . #. . # . . # # . . #. . . . ## # . . . # # # . . # # . .\n"
      ]
     },
     "metadata": {},
     "output_type": "display_data"
    }
   ],
   "source": [
    "for ins in insts:\n",
    "    if ins[0] == \"y\":\n",
    "        grid = fold_along_y(grid, ins[1])\n",
    "    elif ins[0] == \"x\":\n",
    "        grid.rotate()\n",
    "        grid = fold_along_y(grid, ins[1])\n",
    "        grid.rotate(-1)\n",
    "    if part_1 == 0:\n",
    "        part_1 = grid.count(True)\n",
    "        \n",
    "print_g(grid)"
   ]
  },
  {
   "cell_type": "code",
   "execution_count": 7,
   "id": "1a22177f",
   "metadata": {},
   "outputs": [],
   "source": [
    "part_2 = \"ABKJFBGC\""
   ]
  },
  {
   "cell_type": "code",
   "execution_count": 8,
   "metadata": {
    "pycharm": {
     "name": "#%%\n"
    }
   },
   "outputs": [
    {
     "data": {
      "text/html": [
       "<pre style=\"white-space:pre;overflow-x:auto;line-height:normal;font-family:Menlo,'DejaVu Sans Mono',consolas,'Courier New',monospace\"><span style=\"color: #008000; text-decoration-color: #008000; font-weight: bold\">Part </span><span style=\"color: #008000; text-decoration-color: #008000; font-weight: bold\">1</span><span style=\"color: #008000; text-decoration-color: #008000; font-weight: bold\">:</span> <span style=\"color: #008080; text-decoration-color: #008080; font-weight: bold\">745</span>\n",
       "</pre>\n"
      ],
      "text/plain": [
       "\u001b[1;32mPart \u001b[0m\u001b[1;32m1\u001b[0m\u001b[1;32m:\u001b[0m \u001b[1;36m745\u001b[0m\n"
      ]
     },
     "metadata": {},
     "output_type": "display_data"
    },
    {
     "data": {
      "text/html": [
       "<pre style=\"white-space:pre;overflow-x:auto;line-height:normal;font-family:Menlo,'DejaVu Sans Mono',consolas,'Courier New',monospace\"><span style=\"color: #008000; text-decoration-color: #008000; font-weight: bold\">Part </span><span style=\"color: #008000; text-decoration-color: #008000; font-weight: bold\">2</span><span style=\"color: #008000; text-decoration-color: #008000; font-weight: bold\">:</span> ABKJFBGC\n",
       "</pre>\n"
      ],
      "text/plain": [
       "\u001b[1;32mPart \u001b[0m\u001b[1;32m2\u001b[0m\u001b[1;32m:\u001b[0m ABKJFBGC\n"
      ]
     },
     "metadata": {},
     "output_type": "display_data"
    }
   ],
   "source": [
    "print_part_1(part_1)\n",
    "print_part_2(part_2)"
   ]
  }
 ],
 "metadata": {
  "kernelspec": {
   "display_name": "Python 3 (ipykernel)",
   "language": "python",
   "name": "python3"
  },
  "language_info": {
   "codemirror_mode": {
    "name": "ipython",
    "version": 3
   },
   "file_extension": ".py",
   "mimetype": "text/x-python",
   "name": "python",
   "nbconvert_exporter": "python",
   "pygments_lexer": "ipython3",
   "version": "3.10.0"
  }
 },
 "nbformat": 4,
 "nbformat_minor": 13
}
