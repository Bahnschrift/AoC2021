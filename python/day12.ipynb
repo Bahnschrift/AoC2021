{
 "cells": [
  {
   "cell_type": "markdown",
   "metadata": {
    "pycharm": {
     "name": "#%% md\n"
    }
   },
   "source": [
    "# Advent of Code 2021\n",
    "## Day 12\n",
    "*<https://adventofcode.com/2021/day/12>*"
   ]
  },
  {
   "cell_type": "code",
   "execution_count": 1,
   "metadata": {
    "pycharm": {
     "name": "#%%\n"
    }
   },
   "outputs": [],
   "source": [
    "import IPython\n",
    "import math\n",
    "import re\n",
    "from helper import *\n",
    "from itertools import product, combinations, permutations\n",
    "from collections import Counter\n",
    "from pyperclip import copy as copy_part\n",
    "from rich import inspect, print, pretty\n",
    "pretty.install()"
   ]
  },
  {
   "cell_type": "code",
   "execution_count": 2,
   "metadata": {
    "collapsed": false,
    "pycharm": {
     "name": "#%%\n"
    }
   },
   "outputs": [],
   "source": [
    "DAY = 12\n",
    "inp = get_input_lines(DAY)\n",
    "part_1 = 0\n",
    "part_2 = 0"
   ]
  },
  {
   "cell_type": "code",
   "execution_count": 3,
   "id": "77b149a9",
   "metadata": {},
   "outputs": [],
   "source": [
    "class Cave:\n",
    "    def __init__(self, name):\n",
    "        self.name = name\n",
    "        self.connections = set()\n",
    "    \n",
    "    def __repr__(self):\n",
    "        return self.name\n",
    "    \n",
    "    def connect(self, other):\n",
    "        self.connections.add(other)\n",
    "        other.connections.add(self)"
   ]
  },
  {
   "cell_type": "code",
   "execution_count": 4,
   "metadata": {
    "pycharm": {
     "name": "#%%\n"
    }
   },
   "outputs": [],
   "source": [
    "caves = {}\n",
    "for line in inp:\n",
    "    a, b = line.split(\"-\")\n",
    "    if a not in caves:\n",
    "        caves[a] = Cave(a)\n",
    "    if b not in caves:\n",
    "        caves[b] = Cave(b)\n",
    "    caves[a].connect(caves[b])"
   ]
  },
  {
   "cell_type": "code",
   "execution_count": 5,
   "metadata": {},
   "outputs": [],
   "source": [
    "stack_1: list[tuple[Cave, list]] = [(caves[\"start\"], [])]\n",
    "paths = set()\n",
    "\n",
    "while stack_1:\n",
    "    current, path = stack_1.pop()\n",
    "    if current.name == \"end\":\n",
    "        paths.add(tuple(path + [caves[\"end\"]]))\n",
    "        continue\n",
    "    if current.name.islower() and current in path:\n",
    "        continue\n",
    "    stack_1.extend(((c, path + [current]) for c in current.connections))\n",
    "\n",
    "part_1 = len(paths)"
   ]
  },
  {
   "cell_type": "code",
   "execution_count": 6,
   "id": "4becf0f5",
   "metadata": {},
   "outputs": [],
   "source": [
    "stack_2: list[tuple[Cave, list, bool]] = [(caves[\"start\"], [], False)]\n",
    "paths = set()\n",
    "\n",
    "while stack_2:\n",
    "    current, path, doubled = stack_2.pop()\n",
    "    if current.name == \"start\" and current in path:\n",
    "        continue\n",
    "    if current.name == \"end\":\n",
    "        paths.add(tuple(path + [caves[\"end\"]]))\n",
    "        continue\n",
    "    if current.name.islower() and current in path:\n",
    "        if doubled:\n",
    "            continue\n",
    "        else:\n",
    "            doubled = True\n",
    "    stack_2.extend(((c, path + [current], doubled) for c in current.connections))\n",
    "\n",
    "part_2 = len(paths)"
   ]
  },
  {
   "cell_type": "code",
   "execution_count": 7,
   "metadata": {
    "pycharm": {
     "name": "#%%\n"
    }
   },
   "outputs": [
    {
     "data": {
      "text/html": [
       "<pre style=\"white-space:pre;overflow-x:auto;line-height:normal;font-family:Menlo,'DejaVu Sans Mono',consolas,'Courier New',monospace\"><span style=\"color: #008000; text-decoration-color: #008000; font-weight: bold\">Part </span><span style=\"color: #008000; text-decoration-color: #008000; font-weight: bold\">1</span><span style=\"color: #008000; text-decoration-color: #008000; font-weight: bold\">:</span> <span style=\"color: #008080; text-decoration-color: #008080; font-weight: bold\">4885</span>\n",
       "</pre>\n"
      ],
      "text/plain": [
       "\u001b[1;32mPart \u001b[0m\u001b[1;32m1\u001b[0m\u001b[1;32m:\u001b[0m \u001b[1;36m4885\u001b[0m\n"
      ]
     },
     "metadata": {},
     "output_type": "display_data"
    },
    {
     "data": {
      "text/html": [
       "<pre style=\"white-space:pre;overflow-x:auto;line-height:normal;font-family:Menlo,'DejaVu Sans Mono',consolas,'Courier New',monospace\"><span style=\"color: #008000; text-decoration-color: #008000; font-weight: bold\">Part </span><span style=\"color: #008000; text-decoration-color: #008000; font-weight: bold\">2</span><span style=\"color: #008000; text-decoration-color: #008000; font-weight: bold\">:</span> <span style=\"color: #008080; text-decoration-color: #008080; font-weight: bold\">117095</span>\n",
       "</pre>\n"
      ],
      "text/plain": [
       "\u001b[1;32mPart \u001b[0m\u001b[1;32m2\u001b[0m\u001b[1;32m:\u001b[0m \u001b[1;36m117095\u001b[0m\n"
      ]
     },
     "metadata": {},
     "output_type": "display_data"
    }
   ],
   "source": [
    "print_part_1(part_1)\n",
    "print_part_2(part_2)"
   ]
  }
 ],
 "metadata": {
  "kernelspec": {
   "display_name": "Python 3 (ipykernel)",
   "language": "python",
   "name": "python3"
  },
  "language_info": {
   "codemirror_mode": {
    "name": "ipython",
    "version": 3
   },
   "file_extension": ".py",
   "mimetype": "text/x-python",
   "name": "python",
   "nbconvert_exporter": "python",
   "pygments_lexer": "ipython3",
   "version": "3.10.0"
  }
 },
 "nbformat": 4,
 "nbformat_minor": 12
}
