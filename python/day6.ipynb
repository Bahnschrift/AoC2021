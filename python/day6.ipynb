{
 "cells": [
  {
   "cell_type": "markdown",
   "metadata": {
    "pycharm": {
     "name": "#%% md\n"
    }
   },
   "source": [
    "# Advent of Code 2021\n",
    "## Day 6\n",
    "*<https://adventofcode.com/2021/day/6>*"
   ]
  },
  {
   "cell_type": "code",
   "execution_count": 1,
   "metadata": {
    "pycharm": {
     "name": "#%%\n"
    }
   },
   "outputs": [],
   "source": [
    "import IPython\n",
    "import math\n",
    "import re\n",
    "from helper import *\n",
    "from itertools import product, combinations, permutations\n",
    "from collections import Counter\n",
    "from pyperclip import copy as copy_part\n",
    "from rich import inspect, print, pretty\n",
    "pretty.install()"
   ]
  },
  {
   "cell_type": "code",
   "execution_count": 2,
   "metadata": {
    "collapsed": false,
    "pycharm": {
     "name": "#%%\n"
    }
   },
   "outputs": [],
   "source": [
    "DAY = 6\n",
    "inp = get_input(DAY)\n",
    "part_1 = 0\n",
    "part_2 = 0"
   ]
  },
  {
   "cell_type": "code",
   "execution_count": 3,
   "id": "7a31281a",
   "metadata": {},
   "outputs": [],
   "source": [
    "fish = ints(inp)\n",
    "day = 0\n",
    "nums = []\n",
    "while day < 80:\n",
    "    nums.append(len(fish))\n",
    "    new = []\n",
    "    for f in fish:\n",
    "        if f == 0:\n",
    "            new.append(6)\n",
    "            new.append(8)\n",
    "        else:\n",
    "            new.append(f - 1)\n",
    "    fish = new\n",
    "    day += 1\n",
    "part_1 = len(fish)"
   ]
  },
  {
   "cell_type": "markdown",
   "id": "22ee8889",
   "metadata": {},
   "source": [
    "I solved part 2 by generating the first 25 terms of the sequence, plugging it in to Wolfram Alpha, generating more the sequence, copying it into python, then finding the 256th term. It works ig..."
   ]
  },
  {
   "cell_type": "code",
   "execution_count": 4,
   "id": "2e4e332b",
   "metadata": {},
   "outputs": [
    {
     "data": {
      "text/html": [
       "<pre style=\"white-space:pre;overflow-x:auto;line-height:normal;font-family:Menlo,'DejaVu Sans Mono',consolas,'Courier New',monospace\"><span style=\"font-weight: bold\">[</span>\n",
       "    <span style=\"color: #008080; text-decoration-color: #008080; font-weight: bold\">300</span>,\n",
       "    <span style=\"color: #008080; text-decoration-color: #008080; font-weight: bold\">300</span>,\n",
       "    <span style=\"color: #008080; text-decoration-color: #008080; font-weight: bold\">456</span>,\n",
       "    <span style=\"color: #008080; text-decoration-color: #008080; font-weight: bold\">491</span>,\n",
       "    <span style=\"color: #008080; text-decoration-color: #008080; font-weight: bold\">532</span>,\n",
       "    <span style=\"color: #008080; text-decoration-color: #008080; font-weight: bold\">565</span>,\n",
       "    <span style=\"color: #008080; text-decoration-color: #008080; font-weight: bold\">600</span>,\n",
       "    <span style=\"color: #008080; text-decoration-color: #008080; font-weight: bold\">600</span>,\n",
       "    <span style=\"color: #008080; text-decoration-color: #008080; font-weight: bold\">600</span>,\n",
       "    <span style=\"color: #008080; text-decoration-color: #008080; font-weight: bold\">756</span>,\n",
       "    <span style=\"color: #008080; text-decoration-color: #008080; font-weight: bold\">791</span>,\n",
       "    <span style=\"color: #008080; text-decoration-color: #008080; font-weight: bold\">988</span>,\n",
       "    <span style=\"color: #008080; text-decoration-color: #008080; font-weight: bold\">1056</span>,\n",
       "    <span style=\"color: #008080; text-decoration-color: #008080; font-weight: bold\">1132</span>,\n",
       "    <span style=\"color: #008080; text-decoration-color: #008080; font-weight: bold\">1165</span>,\n",
       "    <span style=\"color: #008080; text-decoration-color: #008080; font-weight: bold\">1200</span>,\n",
       "    <span style=\"color: #008080; text-decoration-color: #008080; font-weight: bold\">1356</span>,\n",
       "    <span style=\"color: #008080; text-decoration-color: #008080; font-weight: bold\">1391</span>,\n",
       "    <span style=\"color: #008080; text-decoration-color: #008080; font-weight: bold\">1744</span>,\n",
       "    <span style=\"color: #008080; text-decoration-color: #008080; font-weight: bold\">1847</span>,\n",
       "    <span style=\"color: #008080; text-decoration-color: #008080; font-weight: bold\">2120</span>,\n",
       "    <span style=\"color: #008080; text-decoration-color: #008080; font-weight: bold\">2221</span>,\n",
       "    <span style=\"color: #008080; text-decoration-color: #008080; font-weight: bold\">2332</span>,\n",
       "    <span style=\"color: #008080; text-decoration-color: #008080; font-weight: bold\">2521</span>,\n",
       "    <span style=\"color: #008080; text-decoration-color: #008080; font-weight: bold\">2591</span>\n",
       "<span style=\"font-weight: bold\">]</span>\n",
       "</pre>\n"
      ],
      "text/plain": [
       "\u001b[1m[\u001b[0m\n",
       "    \u001b[1;36m300\u001b[0m,\n",
       "    \u001b[1;36m300\u001b[0m,\n",
       "    \u001b[1;36m456\u001b[0m,\n",
       "    \u001b[1;36m491\u001b[0m,\n",
       "    \u001b[1;36m532\u001b[0m,\n",
       "    \u001b[1;36m565\u001b[0m,\n",
       "    \u001b[1;36m600\u001b[0m,\n",
       "    \u001b[1;36m600\u001b[0m,\n",
       "    \u001b[1;36m600\u001b[0m,\n",
       "    \u001b[1;36m756\u001b[0m,\n",
       "    \u001b[1;36m791\u001b[0m,\n",
       "    \u001b[1;36m988\u001b[0m,\n",
       "    \u001b[1;36m1056\u001b[0m,\n",
       "    \u001b[1;36m1132\u001b[0m,\n",
       "    \u001b[1;36m1165\u001b[0m,\n",
       "    \u001b[1;36m1200\u001b[0m,\n",
       "    \u001b[1;36m1356\u001b[0m,\n",
       "    \u001b[1;36m1391\u001b[0m,\n",
       "    \u001b[1;36m1744\u001b[0m,\n",
       "    \u001b[1;36m1847\u001b[0m,\n",
       "    \u001b[1;36m2120\u001b[0m,\n",
       "    \u001b[1;36m2221\u001b[0m,\n",
       "    \u001b[1;36m2332\u001b[0m,\n",
       "    \u001b[1;36m2521\u001b[0m,\n",
       "    \u001b[1;36m2591\u001b[0m\n",
       "\u001b[1m]\u001b[0m\n"
      ]
     },
     "metadata": {},
     "output_type": "display_data"
    }
   ],
   "source": [
    "print(nums[:25])"
   ]
  },
  {
   "cell_type": "code",
   "execution_count": 5,
   "id": "514fe220",
   "metadata": {},
   "outputs": [],
   "source": [
    "sequence = \"300, 300, 456, 491, 532, 565, 600, 600, 600, 756, 791, 988, 1056, 1132, 1165, 1200, 1356, 1391, 1744, 1847, 2120, 2221, 2332, 2521, 2591, 3100, 3238, 3864, 4068, 4452, 4742, 4923, 5621, 5829, 6964, 7306, 8316, 8810, 9375, 10363, 10752, 12585, 13135, 15280, 16116, 17691, 19173, 20127, 22948, 23887, 27865, 29251, 32971, 35289, 37818, 42121, 44014, 50813, 53138, 60836, 64540, 70789, 77410, 81832, 92934, 97152, 111649, 117678, 131625, 141950, 152621, 170344, 178984, 204583, 214830, 243274, 259628, 284246, 312294, 331605, 374927, 393814, 447857, 474458, 527520, 571922, 615851, 687221, 725419, 822784, 868272, 975377, 1046380, 1143371, 1259143, 1341270, 1510005, 1593691, 1798161, 1914652, 2118748, 2305523, 2484641, 2769148, 2934961, 3308166, 3508343, 3916909, 4220175, 4603389, 5074671, 5419602, 6077314, 6443304, 7225075, 7728518, 8520298, 9294846, 10022991, 11151985, 11862906, 13302389, 14171822, 15745373, 17023364, 18543289, 20446831, 21885897, 24454374, 26034728, 29047762, 31195186, 34288662, 37470195, 40429186, 44901205, 47920625, 53502136, 57229914, 63336424, 68665381, 74717848, 82371400, 88349811, 98403341, 105150539, 116838560, 125895295, 138054272, 151036781, 163067659, 180774741, 193500350, 215241901, 231045834, 254892832, 276932076, 301121931, 331811522, 356568009, 396016642, 424546184, 470134733, 507977910, 556014763, 608743598, 657689940, 727828164, 781114193, 866151375, 932524094, 1026149496, 1116721508, 1213704703, 1336571762, 1438804133, 1593979539, 1713638287, 1892300871, 2049245602, 2239854199, 2453293270, 2652508836, 2930551301, 3152442420, 3486280410, 3762883889, 4132155070, 4502538872, 4892363035, 5383844571, 5804951256, 6416831711, 6915326309, 7618435480, 8265422761, 9024518105, 9886383443, 10697314291, 11800676282, 12720277565, 14035267191, 15180749070, 16642953585, 18151806204, 19721832396, 21687059725, 23417591856, 25835943473, 27901026635, 30678220776, 33332555274, 36364785981, 39838865929, 43139424252, 47523003198, 51318618491, 56514164249, 61233581909, 67043006757, 73171421203, 79504210233, 87361869127, 94458042743, 104037167447, 112552200400, 123557171006, 134405003112, 146547216990, 160533290330, 173962252976, 191399036574, 207010243143, 227594338453, 246957203512, 270104387996, 294938293442, 320509469966, 351932326904, 380972496119, 418993375027, 453967446655, 497698726449, 541895496954, 590613857962, 646870620346, 701481966085, 770925701931, 834939942774, 916692101476, 995862943609, 1088312584411, 1188766117300, 1292095824047, 1417796322277, 1536421908859, 1687617803407, 1830802886383, 2005004685887, 2184629060909, 2380408408458, 2606562439577, 2828517732906, 3105414125684, 3367224795242, 3692622489294, 4015431947292, 4385413094345, 4791191500486, 5208926141364, 5711976565261, 6195742528148, 6798036614978, 7382656742534, 8078035583639, 8806623447778, 9594339235709, 10503168065747, 11404668669512, 12510013180239, 13578399270682, 14876072198617, 16189280190312, 17672374819348, 19309791513525, 20999007905221, 23013181245986, 24983067940194, 27386085378856, 29767679460994, 32548447017965, 35499071703837, 38671382724569, 42322972759511, 45982075845415, 50399266624842, 54750747401188, 59934532396821, 65266751164831, 71219829742534, 77822044463348, 84653458569984, 92722239384353, 100732823246603\"\n",
    "sequence = ints(sequence)\n",
    "part_2 = sequence[256]"
   ]
  },
  {
   "cell_type": "code",
   "execution_count": 6,
   "metadata": {
    "pycharm": {
     "name": "#%%\n"
    }
   },
   "outputs": [
    {
     "data": {
      "text/html": [
       "<pre style=\"white-space:pre;overflow-x:auto;line-height:normal;font-family:Menlo,'DejaVu Sans Mono',consolas,'Courier New',monospace\"><span style=\"color: #008000; text-decoration-color: #008000; font-weight: bold\">Part </span><span style=\"color: #008000; text-decoration-color: #008000; font-weight: bold\">1</span><span style=\"color: #008000; text-decoration-color: #008000; font-weight: bold\">:</span> <span style=\"color: #008080; text-decoration-color: #008080; font-weight: bold\">374927</span>\n",
       "</pre>\n"
      ],
      "text/plain": [
       "\u001b[1;32mPart \u001b[0m\u001b[1;32m1\u001b[0m\u001b[1;32m:\u001b[0m \u001b[1;36m374927\u001b[0m\n"
      ]
     },
     "metadata": {},
     "output_type": "display_data"
    },
    {
     "data": {
      "text/html": [
       "<pre style=\"white-space:pre;overflow-x:auto;line-height:normal;font-family:Menlo,'DejaVu Sans Mono',consolas,'Courier New',monospace\"><span style=\"color: #008000; text-decoration-color: #008000; font-weight: bold\">Part </span><span style=\"color: #008000; text-decoration-color: #008000; font-weight: bold\">2</span><span style=\"color: #008000; text-decoration-color: #008000; font-weight: bold\">:</span> <span style=\"color: #008080; text-decoration-color: #008080; font-weight: bold\">1687617803407</span>\n",
       "</pre>\n"
      ],
      "text/plain": [
       "\u001b[1;32mPart \u001b[0m\u001b[1;32m2\u001b[0m\u001b[1;32m:\u001b[0m \u001b[1;36m1687617803407\u001b[0m\n"
      ]
     },
     "metadata": {},
     "output_type": "display_data"
    }
   ],
   "source": [
    "print_part_1(part_1)\n",
    "print_part_2(part_2)"
   ]
  }
 ],
 "metadata": {
  "kernelspec": {
   "display_name": "Python 3 (ipykernel)",
   "language": "python",
   "name": "python3"
  },
  "language_info": {
   "codemirror_mode": {
    "name": "ipython",
    "version": 3
   },
   "file_extension": ".py",
   "mimetype": "text/x-python",
   "name": "python",
   "nbconvert_exporter": "python",
   "pygments_lexer": "ipython3",
   "version": "3.10.0"
  }
 },
 "nbformat": 4,
 "nbformat_minor": 6
}
